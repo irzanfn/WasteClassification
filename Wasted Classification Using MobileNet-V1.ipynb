{
  "nbformat": 4,
  "nbformat_minor": 0,
  "metadata": {
    "kernelspec": {
      "display_name": "Python 3",
      "language": "python",
      "name": "python3"
    },
    "language_info": {
      "codemirror_mode": {
        "name": "ipython",
        "version": 3
      },
      "file_extension": ".py",
      "mimetype": "text/x-python",
      "name": "python",
      "nbconvert_exporter": "python",
      "pygments_lexer": "ipython3",
      "version": "3.8.5"
    },
    "colab": {
      "name": "ICIMCIS_Sampah_MobilenetV1.ipynb",
      "provenance": [],
      "collapsed_sections": []
    }
  },
  "cells": [
    {
      "cell_type": "markdown",
      "metadata": {
        "id": "uZak2ZW-FpsF"
      },
      "source": [
        "# Import Library"
      ]
    },
    {
      "cell_type": "code",
      "metadata": {
        "id": "_1uDJb_WFfAQ"
      },
      "source": [
        "import os\n",
        "import shutil\n",
        "import zipfile\n",
        "import numpy as np\n",
        "import tensorflow as tf\n",
        "import cv2\n",
        "import pandas as pd\n",
        "import time\n",
        "import seaborn as sns\n",
        "import matplotlib.pyplot as plt\n",
        "\n",
        "from tqdm import tqdm\n",
        "from keras.preprocessing import image\n",
        "from tensorflow.keras import regularizers\n",
        "from tensorflow.keras.preprocessing.image import ImageDataGenerator\n",
        "from glob import glob\n",
        "from zipfile import ZipFile\n",
        "from sklearn.model_selection import train_test_split\n",
        "from sklearn.metrics import confusion_matrix, classification_report\n",
        "from keras import layers, models, optimizers\n",
        "from keras.preprocessing.image import ImageDataGenerator, load_img, img_to_array\n",
        "from keras.applications.mobilenet import MobileNet, preprocess_input, decode_predictions"
      ],
      "execution_count": null,
      "outputs": []
    },
    {
      "cell_type": "markdown",
      "metadata": {
        "id": "FwAWpotLFtb7"
      },
      "source": [
        "# Extract the dataset"
      ]
    },
    {
      "cell_type": "code",
      "metadata": {
        "id": "9ACCk5AfFfAW"
      },
      "source": [
        "with ZipFile('D:/Data/Irzan/ICIMCIS/waste-classification-data-v2.zip', 'r') as zipObject:\n",
        "   listOfFileNames = zipObject.namelist()\n",
        "   for fileName in listOfFileNames:\n",
        "     zipObject.extract(fileName, 'D:/Data/Irzan/ICIMCIS/')"
      ],
      "execution_count": null,
      "outputs": []
    },
    {
      "cell_type": "markdown",
      "metadata": {
        "id": "KabuiHV8FybQ"
      },
      "source": [
        "# Move the data into raw foler"
      ]
    },
    {
      "cell_type": "code",
      "metadata": {
        "id": "-depPiuyFfAY"
      },
      "source": [
        "for tt in os.listdir(os.path.join('D:/Data/Irzan/ICIMCIS', 'DATASET')):\n",
        "  tt_path = os.path.join('D:/Data/Irzan/ICIMCIS', 'DATASET', tt)\n",
        "  for cc in os.listdir(tt_path):\n",
        "    cc_path = os.path.join(tt_path, cc)\n",
        "    for im in os.listdir(cc_path):\n",
        "      if cc == 'N':\n",
        "        shutil.move(os.path.join(cc_path, im), os.path.join('D:/Data/Irzan/ICIMCIS/raw', 'non-organic'))\n",
        "      if cc == 'O':\n",
        "        shutil.move(os.path.join(cc_path, im), os.path.join('D:/Data/Irzan/ICIMCIS/raw', 'organic'))\n",
        "      if cc == 'R':\n",
        "        shutil.move(os.path.join(cc_path, im), os.path.join('D:/Data/Irzan/ICIMCIS/raw', 'recycleable'))"
      ],
      "execution_count": null,
      "outputs": []
    },
    {
      "cell_type": "code",
      "metadata": {
        "id": "hLdbD-SrFfAZ"
      },
      "source": [
        "DATADIR = os.path.join('D:/Data/Irzan/ICIMCIS')\n",
        "RAWDATADIR = os.path.join(DATADIR, 'raw')\n",
        "TRAINDIR = os.path.join(DATADIR, 'train')\n",
        "VALDIR = os.path.join(DATADIR, 'val')\n",
        "TESTDIR = os.path.join(DATADIR, 'test')\n",
        "MODEL_NAME = 'mobilenet_v1'\n",
        "\n",
        "img_width, img_height = (224, 224)\n",
        "img_channel = 3\n",
        "type_list = ['non-organic', 'organic', 'recycleable']"
      ],
      "execution_count": null,
      "outputs": []
    },
    {
      "cell_type": "markdown",
      "metadata": {
        "id": "4fdyOOKbGKla"
      },
      "source": [
        "# Check the amount of data"
      ]
    },
    {
      "cell_type": "code",
      "metadata": {
        "id": "_cEo6mifFfAZ"
      },
      "source": [
        "labels = []\n",
        "\n",
        "for class_folder in os.listdir(RAWDATADIR):\n",
        "    for im in os.listdir(os.path.join(RAWDATADIR, class_folder)):\n",
        "        labels.append(class_folder)"
      ],
      "execution_count": null,
      "outputs": []
    },
    {
      "cell_type": "code",
      "metadata": {
        "id": "MYEDraHqFfAb",
        "outputId": "b378589b-d594-4b07-a3fb-c6c9aabb4def"
      },
      "source": [
        "unique_label, unique_count = np.unique(labels, return_counts=True)\n",
        "labels_dict = dict(zip(unique_label, unique_count))\n",
        "\n",
        "labels_dict"
      ],
      "execution_count": null,
      "outputs": [
        {
          "data": {
            "text/plain": [
              "{'non-organic': 3244, 'organic': 13966, 'recycleable': 8264}"
            ]
          },
          "execution_count": 81,
          "metadata": {},
          "output_type": "execute_result"
        }
      ]
    },
    {
      "cell_type": "markdown",
      "metadata": {
        "id": "idKW75PHGVD8"
      },
      "source": [
        "# Data Balancing"
      ]
    },
    {
      "cell_type": "code",
      "metadata": {
        "id": "ey_HtfnGFfAr"
      },
      "source": [
        "non_organic_delete = os.listdir(os.path.join(RAWDATADIR, 'non-organic'))[:1744]\n",
        "\n",
        "for files in non_organic_delete:\n",
        "    os.remove(os.path.join(RAWDATADIR, 'non-organic', files))"
      ],
      "execution_count": null,
      "outputs": []
    },
    {
      "cell_type": "code",
      "metadata": {
        "id": "kaEzFOWcFfAt"
      },
      "source": [
        "organic_delete = os.listdir(os.path.join(RAWDATADIR, 'organic'))[:12466]\n",
        "\n",
        "for files in organic_delete:\n",
        "    os.remove(os.path.join(RAWDATADIR, 'organic', files))"
      ],
      "execution_count": null,
      "outputs": []
    },
    {
      "cell_type": "code",
      "metadata": {
        "id": "uZ-R0vMyFfAt"
      },
      "source": [
        "recycleable_delete = os.listdir(os.path.join(RAWDATADIR, 'recycleable'))[:6764]\n",
        "\n",
        "for files in recycleable_delete:\n",
        "    os.remove(os.path.join(RAWDATADIR, 'recycleable', files))"
      ],
      "execution_count": null,
      "outputs": []
    },
    {
      "cell_type": "markdown",
      "metadata": {
        "id": "Amwg0X3mGYEQ"
      },
      "source": [
        "# Recheck amount of data"
      ]
    },
    {
      "cell_type": "code",
      "metadata": {
        "id": "QndKJOBEFfAu"
      },
      "source": [
        "labels = []\n",
        "\n",
        "for class_folder in os.listdir(RAWDATADIR):\n",
        "    for im in os.listdir(os.path.join(RAWDATADIR, class_folder)):\n",
        "        labels.append(class_folder)"
      ],
      "execution_count": null,
      "outputs": []
    },
    {
      "cell_type": "code",
      "metadata": {
        "id": "GW7roFjIFfAu",
        "outputId": "15ecdf74-40fd-40c3-dccd-fcf454da7bcf"
      },
      "source": [
        "unique_label, unique_count = np.unique(labels, return_counts=True)\n",
        "labels_dict = dict(zip(unique_label, unique_count))\n",
        "\n",
        "labels_dict"
      ],
      "execution_count": null,
      "outputs": [
        {
          "data": {
            "text/plain": [
              "{'non-organic': 1500, 'organic': 1500, 'recycleable': 1500}"
            ]
          },
          "execution_count": 86,
          "metadata": {},
          "output_type": "execute_result"
        }
      ]
    },
    {
      "cell_type": "markdown",
      "metadata": {
        "id": "_j51prAnGcWC"
      },
      "source": [
        "# Making Train, Test and Val Folder"
      ]
    },
    {
      "cell_type": "code",
      "metadata": {
        "id": "Hq747habFfAw"
      },
      "source": [
        "for folder in ['train', 'test', 'val']:\n",
        "    if os.path.isdir(os.path.join(DATADIR, folder)):\n",
        "        print('{} exists' .format(os.path.join(DATADIR, folder)))\n",
        "    else:\n",
        "        os.mkdir(os.path.join(DATADIR, folder))"
      ],
      "execution_count": null,
      "outputs": []
    },
    {
      "cell_type": "code",
      "metadata": {
        "id": "qpRsEbi1FfAw"
      },
      "source": [
        "for folder in ['train', 'test', 'val']:\n",
        "    for key in labels_dict.keys():\n",
        "        os.mkdir(os.path.join(DATADIR, folder, key))"
      ],
      "execution_count": null,
      "outputs": []
    },
    {
      "cell_type": "markdown",
      "metadata": {
        "id": "Bo7Adfc5GwTb"
      },
      "source": [
        "# Move the respective data into the train, val, test folders"
      ]
    },
    {
      "cell_type": "code",
      "metadata": {
        "id": "j0ScjhGtFfAx",
        "outputId": "f4cdc899-c9b7-47e6-f4e2-9c596ffbc8cd"
      },
      "source": [
        "images = []\n",
        "\n",
        "for class_folder in tqdm(os.listdir(RAWDATADIR)):\n",
        "    for im in os.listdir(os.path.join(RAWDATADIR, class_folder)):\n",
        "        images.append([im, class_folder])"
      ],
      "execution_count": null,
      "outputs": [
        {
          "name": "stderr",
          "output_type": "stream",
          "text": [
            "100%|██████████| 3/3 [00:00<00:00, 15.19it/s]\n"
          ]
        }
      ]
    },
    {
      "cell_type": "code",
      "metadata": {
        "id": "_RjEpvJAFfAy"
      },
      "source": [
        "images_df = pd.DataFrame(images)\n",
        "images_df.columns = ['filename', 'labels']"
      ],
      "execution_count": null,
      "outputs": []
    },
    {
      "cell_type": "code",
      "metadata": {
        "id": "4dkKe1QcFfAy",
        "outputId": "20a37548-76ee-447f-a805-bf5ddcdf936d"
      },
      "source": [
        "np.unique(images_df['labels'], return_counts=True)"
      ],
      "execution_count": null,
      "outputs": [
        {
          "data": {
            "text/plain": [
              "(array(['non-organic', 'organic', 'recycleable'], dtype=object),\n",
              " array([1500, 1500, 1500], dtype=int64))"
            ]
          },
          "execution_count": 7,
          "metadata": {},
          "output_type": "execute_result"
        }
      ]
    },
    {
      "cell_type": "code",
      "metadata": {
        "id": "96gb8pKYFfAz"
      },
      "source": [
        "X = images_df['filename']\n",
        "y = images_df['labels']"
      ],
      "execution_count": null,
      "outputs": []
    },
    {
      "cell_type": "code",
      "metadata": {
        "id": "xv_pVY6AFfAz"
      },
      "source": [
        "X_train, X_test, y_train, y_test = train_test_split(X, y, test_size=0.2,\n",
        "                                                    stratify=y,\n",
        "                                                    shuffle=True,\n",
        "                                                    random_state=42)"
      ],
      "execution_count": null,
      "outputs": []
    },
    {
      "cell_type": "code",
      "metadata": {
        "id": "tr1gzzvrFfA0"
      },
      "source": [
        "X_train_val, X_val, y_train_val, y_val = train_test_split(X_train, y_train, test_size=0.2,\n",
        "                                                          stratify=y_train,\n",
        "                                                          shuffle=True, \n",
        "                                                          random_state=42)"
      ],
      "execution_count": null,
      "outputs": []
    },
    {
      "cell_type": "code",
      "metadata": {
        "id": "OfkR7ErSFfA0",
        "outputId": "86a18275-219c-4f40-a106-a8153caa1c2c"
      },
      "source": [
        "for x, y in tqdm(zip(X_train_val, y_train_val), total=len(X_train_val)):\n",
        "    src = os.path.join(RAWDATADIR, y, x)\n",
        "    dst = os.path.join(DATADIR, 'train', y)\n",
        "    shutil.copy(src, dst)"
      ],
      "execution_count": null,
      "outputs": [
        {
          "name": "stderr",
          "output_type": "stream",
          "text": [
            "100%|██████████| 2880/2880 [00:02<00:00, 1037.58it/s]\n"
          ]
        }
      ]
    },
    {
      "cell_type": "code",
      "metadata": {
        "id": "bE4T4P7NFfA1",
        "outputId": "7427f2ca-a917-4c8e-a047-c4f0328a51bd"
      },
      "source": [
        "for x, y in tqdm(zip(X_val, y_val), total=len(X_val)):\n",
        "    src = os.path.join(RAWDATADIR, y, x)\n",
        "    dst = os.path.join(DATADIR, 'val', y)\n",
        "    shutil.copy(src, dst)"
      ],
      "execution_count": null,
      "outputs": [
        {
          "name": "stderr",
          "output_type": "stream",
          "text": [
            "100%|██████████| 720/720 [00:00<00:00, 978.22it/s] \n"
          ]
        }
      ]
    },
    {
      "cell_type": "code",
      "metadata": {
        "id": "QHJZFUdHFfA2",
        "outputId": "01c0a115-d2c5-4f63-efb3-c59f4b6432a0"
      },
      "source": [
        "for x, y in tqdm(zip(X_test, y_test), total=len(X_test)):\n",
        "    src = os.path.join(RAWDATADIR, y, x)\n",
        "    dst = os.path.join(DATADIR, 'test', y)\n",
        "    shutil.copy(src, dst)"
      ],
      "execution_count": null,
      "outputs": [
        {
          "name": "stderr",
          "output_type": "stream",
          "text": [
            "100%|██████████| 900/900 [00:01<00:00, 627.64it/s]\n"
          ]
        }
      ]
    },
    {
      "cell_type": "markdown",
      "metadata": {
        "id": "9_Ut7ovmG4uX"
      },
      "source": [
        "# Image Augmentation"
      ]
    },
    {
      "cell_type": "code",
      "metadata": {
        "id": "34TYGy6LFfA2"
      },
      "source": [
        "train_datagen = ImageDataGenerator(preprocessing_function=preprocess_input,\n",
        "                                   rescale=1./255,\n",
        "                                   rotation_range=45,\n",
        "                                   brightness_range=(1.0, 1.5),\n",
        "                                   shear_range=0.3,\n",
        "                                   zoom_range=0.3,\n",
        "                                   horizontal_flip=True,\n",
        "                                   fill_mode='reflect')\n",
        "\n",
        "val_datagen = ImageDataGenerator(preprocessing_function=preprocess_input, rescale=1./255)\n",
        "test_datagen = ImageDataGenerator(preprocessing_function=preprocess_input, rescale=1./255)"
      ],
      "execution_count": null,
      "outputs": []
    },
    {
      "cell_type": "code",
      "metadata": {
        "id": "AjiSwsS1FfA3",
        "outputId": "bc5cc1da-18f2-4912-e3ec-c40a1273502b"
      },
      "source": [
        "train_generator = train_datagen.flow_from_directory(directory=TRAINDIR,\n",
        "                                                    target_size=(img_width, img_height),\n",
        "                                                    color_mode='rgb',\n",
        "                                                    batch_size=32,\n",
        "                                                    class_mode='categorical',\n",
        "                                                    shuffle=True)\n",
        "val_generator = val_datagen.flow_from_directory(directory=VALDIR,\n",
        "                                                target_size=(img_width, img_height),\n",
        "                                                color_mode='rgb',\n",
        "                                                class_mode='categorical',\n",
        "                                                shuffle=True)\n",
        "test_generator = test_datagen.flow_from_directory(directory=TESTDIR,\n",
        "                                                  target_size=(img_width, img_height),\n",
        "                                                  color_mode='rgb',\n",
        "                                                  class_mode='categorical',\n",
        "                                                  shuffle=False)"
      ],
      "execution_count": null,
      "outputs": [
        {
          "name": "stdout",
          "output_type": "stream",
          "text": [
            "Found 2880 images belonging to 3 classes.\n",
            "Found 720 images belonging to 3 classes.\n",
            "Found 900 images belonging to 3 classes.\n"
          ]
        }
      ]
    },
    {
      "cell_type": "markdown",
      "metadata": {
        "id": "z_W6ulByG7PE"
      },
      "source": [
        "# Making Mobilenet-V1 based model"
      ]
    },
    {
      "cell_type": "code",
      "metadata": {
        "id": "L9vnl-fLFfA3"
      },
      "source": [
        "mobilenet = tf.keras.applications.mobilenet.MobileNet(include_top=False,\n",
        "                                                      weights='imagenet', dropout=0.4,\n",
        "                                                      input_shape=(img_width, img_height, img_channel))"
      ],
      "execution_count": null,
      "outputs": []
    },
    {
      "cell_type": "markdown",
      "metadata": {
        "id": "f_B4KwaqHAtV"
      },
      "source": [
        "# Make all the layer into trainable"
      ]
    },
    {
      "cell_type": "code",
      "metadata": {
        "id": "19fyv-7UFfA3"
      },
      "source": [
        "for layer in mobilenet.layers:\n",
        "    layer.trainable = True"
      ],
      "execution_count": null,
      "outputs": []
    },
    {
      "cell_type": "markdown",
      "metadata": {
        "id": "_RSVPSZ1HH8C"
      },
      "source": [
        "# Adding GlobalAveragePooling and Output Layer"
      ]
    },
    {
      "cell_type": "code",
      "metadata": {
        "id": "QTV-hy6bFfA3",
        "outputId": "e8c7f684-891b-4962-8990-0cddf323fcac"
      },
      "source": [
        "model = tf.keras.models.Sequential([\n",
        "    mobilenet,\n",
        "    tf.keras.layers.GlobalAveragePooling2D(),\n",
        "    tf.keras.layers.Dense(3, activation='softmax')\n",
        "])\n",
        "\n",
        "model.summary()"
      ],
      "execution_count": null,
      "outputs": [
        {
          "name": "stdout",
          "output_type": "stream",
          "text": [
            "Model: \"sequential_1\"\n",
            "_________________________________________________________________\n",
            "Layer (type)                 Output Shape              Param #   \n",
            "=================================================================\n",
            "mobilenet_1.00_224 (Function (None, 7, 7, 1024)        3228864   \n",
            "_________________________________________________________________\n",
            "global_average_pooling2d_1 ( (None, 1024)              0         \n",
            "_________________________________________________________________\n",
            "dense_1 (Dense)              (None, 3)                 3075      \n",
            "=================================================================\n",
            "Total params: 3,231,939\n",
            "Trainable params: 3,210,051\n",
            "Non-trainable params: 21,888\n",
            "_________________________________________________________________\n"
          ]
        }
      ]
    },
    {
      "cell_type": "code",
      "metadata": {
        "id": "GXFoJYVeFfA3"
      },
      "source": [
        "model.compile(loss='categorical_crossentropy',\n",
        "              optimizer=tf.optimizers.Adam(learning_rate=0.0001),\n",
        "              metrics=['accuracy'])"
      ],
      "execution_count": null,
      "outputs": []
    },
    {
      "cell_type": "markdown",
      "metadata": {
        "id": "07lCUX9yHMs-"
      },
      "source": [
        "# Train the model"
      ]
    },
    {
      "cell_type": "code",
      "metadata": {
        "id": "JnPAcN7zFfA4",
        "outputId": "73452455-dcb7-4152-965d-3c690305ebaf"
      },
      "source": [
        "callback = tf.keras.callbacks.EarlyStopping(monitor='val_loss', mode='min' , patience=5)\n",
        "start = time.time()\n",
        "history = model.fit(\n",
        "      train_generator,\n",
        "      epochs=30, # tambahkan eposchs jika akurasi model belum optimal\n",
        "      validation_data=val_generator, # menampilkan akurasi pengujian data validasi\n",
        "      verbose=1,\n",
        "      callbacks=callback\n",
        ")\n",
        "end = time.time()"
      ],
      "execution_count": null,
      "outputs": [
        {
          "name": "stdout",
          "output_type": "stream",
          "text": [
            "Epoch 1/30\n",
            "90/90 [==============================] - 44s 490ms/step - loss: 0.5549 - accuracy: 0.7802 - val_loss: 2.0307 - val_accuracy: 0.3333\n",
            "Epoch 2/30\n",
            "90/90 [==============================] - 43s 480ms/step - loss: 0.3220 - accuracy: 0.8833 - val_loss: 1.1955 - val_accuracy: 0.4944\n",
            "Epoch 3/30\n",
            "90/90 [==============================] - 44s 481ms/step - loss: 0.2495 - accuracy: 0.9066 - val_loss: 1.5090 - val_accuracy: 0.4972\n",
            "Epoch 4/30\n",
            "90/90 [==============================] - 44s 482ms/step - loss: 0.2068 - accuracy: 0.9240 - val_loss: 0.4964 - val_accuracy: 0.7917\n",
            "Epoch 5/30\n",
            "90/90 [==============================] - 44s 481ms/step - loss: 0.1750 - accuracy: 0.9316 - val_loss: 0.4020 - val_accuracy: 0.8333\n",
            "Epoch 6/30\n",
            "90/90 [==============================] - 44s 486ms/step - loss: 0.1611 - accuracy: 0.9427 - val_loss: 0.3864 - val_accuracy: 0.8736\n",
            "Epoch 7/30\n",
            "90/90 [==============================] - 44s 483ms/step - loss: 0.1261 - accuracy: 0.9528 - val_loss: 0.3526 - val_accuracy: 0.8681\n",
            "Epoch 8/30\n",
            "90/90 [==============================] - 44s 487ms/step - loss: 0.1212 - accuracy: 0.9531 - val_loss: 0.4381 - val_accuracy: 0.8375\n",
            "Epoch 9/30\n",
            "90/90 [==============================] - 45s 494ms/step - loss: 0.1093 - accuracy: 0.9542 - val_loss: 0.2847 - val_accuracy: 0.9097\n",
            "Epoch 10/30\n",
            "90/90 [==============================] - 44s 483ms/step - loss: 0.0814 - accuracy: 0.9740 - val_loss: 0.2303 - val_accuracy: 0.9181\n",
            "Epoch 11/30\n",
            "90/90 [==============================] - 47s 517ms/step - loss: 0.0836 - accuracy: 0.9715 - val_loss: 0.2839 - val_accuracy: 0.9056\n",
            "Epoch 12/30\n",
            "90/90 [==============================] - 44s 484ms/step - loss: 0.0866 - accuracy: 0.9677 - val_loss: 0.2266 - val_accuracy: 0.9292\n",
            "Epoch 13/30\n",
            "90/90 [==============================] - 44s 484ms/step - loss: 0.0792 - accuracy: 0.9733 - val_loss: 0.3228 - val_accuracy: 0.9028\n",
            "Epoch 14/30\n",
            "90/90 [==============================] - 44s 483ms/step - loss: 0.0634 - accuracy: 0.9781 - val_loss: 0.2261 - val_accuracy: 0.9292\n",
            "Epoch 15/30\n",
            "90/90 [==============================] - 44s 485ms/step - loss: 0.0664 - accuracy: 0.9771 - val_loss: 0.2105 - val_accuracy: 0.9375\n",
            "Epoch 16/30\n",
            "90/90 [==============================] - 43s 480ms/step - loss: 0.0590 - accuracy: 0.9767 - val_loss: 0.2119 - val_accuracy: 0.9403\n",
            "Epoch 17/30\n",
            "90/90 [==============================] - 44s 485ms/step - loss: 0.0585 - accuracy: 0.9799 - val_loss: 0.2903 - val_accuracy: 0.9194\n",
            "Epoch 18/30\n",
            "90/90 [==============================] - 44s 482ms/step - loss: 0.0620 - accuracy: 0.9799 - val_loss: 0.2462 - val_accuracy: 0.9306\n",
            "Epoch 19/30\n",
            "90/90 [==============================] - 44s 487ms/step - loss: 0.0580 - accuracy: 0.9788 - val_loss: 0.2373 - val_accuracy: 0.9264\n",
            "Epoch 20/30\n",
            "90/90 [==============================] - 44s 486ms/step - loss: 0.0563 - accuracy: 0.9802 - val_loss: 0.2118 - val_accuracy: 0.9444\n"
          ]
        }
      ]
    },
    {
      "cell_type": "code",
      "metadata": {
        "id": "uRv97T7GFfA4",
        "outputId": "928142ec-e366-4b0c-ebd4-6f1bb3108dfc"
      },
      "source": [
        "print(end-start)"
      ],
      "execution_count": null,
      "outputs": [
        {
          "name": "stdout",
          "output_type": "stream",
          "text": [
            "880.6975741386414\n"
          ]
        }
      ]
    },
    {
      "cell_type": "markdown",
      "metadata": {
        "id": "16PPzrtMHPm8"
      },
      "source": [
        "# Evaluate the model"
      ]
    },
    {
      "cell_type": "code",
      "metadata": {
        "id": "ra6V8S-TFfA5"
      },
      "source": [
        "true_classes = test_generator.classes\n",
        "class_labels = list(test_generator.class_indices.keys())   "
      ],
      "execution_count": null,
      "outputs": []
    },
    {
      "cell_type": "code",
      "metadata": {
        "id": "qzPol5k7FfA5",
        "outputId": "c17474b5-b7f9-4467-bd9b-acfa11997a84"
      },
      "source": [
        "model.evaluate(test_generator, return_dict=True)"
      ],
      "execution_count": null,
      "outputs": [
        {
          "name": "stdout",
          "output_type": "stream",
          "text": [
            "29/29 [==============================] - 2s 65ms/step - loss: 0.2811 - accuracy: 0.9100\n"
          ]
        },
        {
          "data": {
            "text/plain": [
              "{'loss': 0.28108713030815125, 'accuracy': 0.9100000262260437}"
            ]
          },
          "execution_count": 33,
          "metadata": {},
          "output_type": "execute_result"
        }
      ]
    },
    {
      "cell_type": "code",
      "metadata": {
        "id": "eDvEHgCkFfA5"
      },
      "source": [
        "import sklearn.metrics as metrics\n",
        "\n",
        "y_pred_ohe = model.predict(test_generator)  # shape=(n_samples, 12)\n",
        "y_pred_labels = np.argmax(y_pred_ohe, axis=1)  # only necessary if output has one-hot-encoding, shape=(n_samples)\n",
        "\n",
        "confusion_matrix = metrics.confusion_matrix(y_true=test_generator.classes, y_pred=y_pred_labels)  # shape=(12, 12)"
      ],
      "execution_count": null,
      "outputs": []
    },
    {
      "cell_type": "code",
      "metadata": {
        "id": "ZU9w8L96FfA7",
        "outputId": "73d3e66e-f2f5-430d-f499-18d81a150445"
      },
      "source": [
        "confusion_matrix"
      ],
      "execution_count": null,
      "outputs": [
        {
          "data": {
            "text/plain": [
              "array([[274,  16,  10],\n",
              "       [ 16, 270,  14],\n",
              "       [ 19,   6, 275]], dtype=int64)"
            ]
          },
          "execution_count": 35,
          "metadata": {},
          "output_type": "execute_result"
        }
      ]
    },
    {
      "cell_type": "code",
      "metadata": {
        "id": "O4u92w0iFfA7",
        "outputId": "45bd8de9-aa66-4fc2-c758-d7e73f30ebd4"
      },
      "source": [
        "import seaborn as sns\n",
        "sns.heatmap(confusion_matrix, annot=True)"
      ],
      "execution_count": null,
      "outputs": [
        {
          "data": {
            "text/plain": [
              "<AxesSubplot:>"
            ]
          },
          "execution_count": 36,
          "metadata": {},
          "output_type": "execute_result"
        },
        {
          "data": {
            "image/png": "[encoded data removed]",
            "text/plain": [
              "<Figure size 432x288 with 2 Axes>"
            ]
          },
          "metadata": {
            "needs_background": "light"
          },
          "output_type": "display_data"
        }
      ]
    },
    {
      "cell_type": "markdown",
      "metadata": {
        "id": "OkDgTs-7HSPI"
      },
      "source": [
        "# Making Plot for model history"
      ]
    },
    {
      "cell_type": "code",
      "metadata": {
        "id": "tQH6V2_EFfA8"
      },
      "source": [
        "def graph(history):\n",
        "    fig, ax = plt.subplots(1, 2, figsize=(15,5))\n",
        "    ax[0].set_title('loss')\n",
        "    ax[0].plot(history.epoch, history.history[\"loss\"], label=\"Train loss\")\n",
        "    ax[0].plot(history.epoch, history.history[\"val_loss\"], label=\"Validation loss\")\n",
        "    ax[1].set_title('acc')\n",
        "    ax[1].plot(history.epoch, history.history[\"accuracy\"], label=\"Train acc\")\n",
        "    ax[1].plot(history.epoch, history.history[\"val_accuracy\"], label=\"Validation acc\")\n",
        "    ax[0].legend()\n",
        "    ax[1].legend()"
      ],
      "execution_count": null,
      "outputs": []
    },
    {
      "cell_type": "code",
      "metadata": {
        "id": "WVVOnYkaFfA8",
        "outputId": "4357a164-faba-41cd-a394-108dc45410d6"
      },
      "source": [
        "graph(history)"
      ],
      "execution_count": null,
      "outputs": [
        {
          "data": {
            "image/png": "[encoded data removed]",
            "text/plain": [
              "<Figure size 1080x360 with 2 Axes>"
            ]
          },
          "metadata": {
            "needs_background": "light"
          },
          "output_type": "display_data"
        }
      ]
    },
    {
      "cell_type": "markdown",
      "metadata": {
        "id": "GmhgxKDpHZ96"
      },
      "source": [
        "# Saving the model"
      ]
    },
    {
      "cell_type": "code",
      "metadata": {
        "id": "i-oIbVi_FfA8",
        "outputId": "9481fa75-5302-42d2-b1ff-184c6731733a"
      },
      "source": [
        "# Convert model to tflite.\n",
        "converter = tf.lite.TFLiteConverter.from_keras_model(model)\n",
        "tflite_model = converter.convert()"
      ],
      "execution_count": null,
      "outputs": [
        {
          "name": "stdout",
          "output_type": "stream",
          "text": [
            "INFO:tensorflow:Assets written to: C:\\Users\\Admin\\AppData\\Local\\Temp\\tmpm8n9aq5w\\assets\n"
          ]
        }
      ]
    },
    {
      "cell_type": "code",
      "metadata": {
        "id": "ca0X8O7HFfA9"
      },
      "source": [
        "with tf.io.gfile.GFile('D:/Data/Irzan/ICIMCIS/model.tflite', 'wb') as f:\n",
        "  f.write(tflite_model)"
      ],
      "execution_count": null,
      "outputs": []
    },
    {
      "cell_type": "code",
      "metadata": {
        "id": "UY-robZeFfA9"
      },
      "source": [
        "model.save(\"D:/Data/Irzan/ICIMCIS/model.h5\")\n",
        "model.save_weights(\"D:/Data/Irzan/ICIMCIS/weight.h5\")"
      ],
      "execution_count": null,
      "outputs": []
    }
  ]
}